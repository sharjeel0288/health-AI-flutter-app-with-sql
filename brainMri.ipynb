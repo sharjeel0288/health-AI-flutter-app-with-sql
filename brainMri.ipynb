{
 "cells": [
  {
   "cell_type": "markdown",
   "metadata": {},
   "source": [
    "# Convolutional Neural Network"
   ]
  },
  {
   "cell_type": "markdown",
   "metadata": {},
   "source": []
  },
  {
   "cell_type": "code",
   "execution_count": 1,
   "metadata": {},
   "outputs": [],
   "source": [
    "# Importing the libraries\n",
    "import scipy # This is new!\n",
    "from keras.preprocessing.image import ImageDataGenerator\n",
    "import tensorflow as tf\n",
    "from keras.preprocessing.image import ImageDataGenerator\n"
   ]
  },
  {
   "cell_type": "markdown",
   "metadata": {},
   "source": [
    "## Part 1 - Data Preprocessing"
   ]
  },
  {
   "cell_type": "markdown",
   "metadata": {},
   "source": [
    "### Preprocessing the Training set"
   ]
  },
  {
   "cell_type": "code",
   "execution_count": 2,
   "metadata": {},
   "outputs": [
    {
     "name": "stdout",
     "output_type": "stream",
     "text": [
      "Found 1499 images belonging to 2 classes.\n"
     ]
    }
   ],
   "source": [
    "train_datagen = ImageDataGenerator(\n",
    "    rescale=1/255,\n",
    "    shear_range=0.2,\n",
    "    zoom_range=0.2,\n",
    "    horizontal_flip=True\n",
    ")\n",
    "training_set = train_datagen.flow_from_directory(\n",
    "    'BrainMri_dataset/trainingSet',\n",
    "    target_size=(64, 64),\n",
    "    batch_size=32,\n",
    "    class_mode='binary',\n",
    ")\n"
   ]
  },
  {
   "cell_type": "markdown",
   "metadata": {},
   "source": [
    "### Preprocessing the Test set"
   ]
  },
  {
   "cell_type": "code",
   "execution_count": 3,
   "metadata": {},
   "outputs": [
    {
     "name": "stdout",
     "output_type": "stream",
     "text": [
      "Found 1499 images belonging to 2 classes.\n"
     ]
    }
   ],
   "source": [
    "test_datagen = ImageDataGenerator(\n",
    "    rescale=1/255,\n",
    ")\n",
    "test_set = test_datagen.flow_from_directory(\n",
    "    'BrainMri_dataset/testSet',\n",
    "    target_size=(64, 64),\n",
    "    batch_size=32,\n",
    "    class_mode='binary',\n",
    ")\n"
   ]
  },
  {
   "cell_type": "markdown",
   "metadata": {},
   "source": [
    "## Part 2 - Building the CNN"
   ]
  },
  {
   "cell_type": "markdown",
   "metadata": {},
   "source": [
    "### Initialising the CNN"
   ]
  },
  {
   "cell_type": "code",
   "execution_count": 4,
   "metadata": {},
   "outputs": [],
   "source": [
    "cnn=tf.keras.models.Sequential()\n"
   ]
  },
  {
   "cell_type": "markdown",
   "metadata": {},
   "source": [
    "### Step 1 - Convolution"
   ]
  },
  {
   "cell_type": "code",
   "execution_count": 5,
   "metadata": {},
   "outputs": [],
   "source": [
    "cnn.add(\n",
    "    tf.keras.layers.Conv2D(\n",
    "        filters=32,\n",
    "        activation='relu',\n",
    "        input_shape=[64,64,3],\n",
    "        kernel_size=3,\n",
    "    )\n",
    ")"
   ]
  },
  {
   "cell_type": "markdown",
   "metadata": {},
   "source": [
    "### Step 2 - Pooling"
   ]
  },
  {
   "cell_type": "code",
   "execution_count": 6,
   "metadata": {},
   "outputs": [],
   "source": [
    "cnn.add(\n",
    "    tf.keras.layers.MaxPool2D(\n",
    "        pool_size=2,\n",
    "        strides=2\n",
    "    )\n",
    ")"
   ]
  },
  {
   "cell_type": "markdown",
   "metadata": {},
   "source": [
    "### Adding a second convolutional layer"
   ]
  },
  {
   "cell_type": "code",
   "execution_count": 7,
   "metadata": {},
   "outputs": [],
   "source": [
    "cnn.add(\n",
    "    tf.keras.layers.Conv2D(\n",
    "        filters=32,\n",
    "        activation='relu',\n",
    "        kernel_size=3,\n",
    "    )\n",
    ")\n",
    "cnn.add(\n",
    "    tf.keras.layers.MaxPool2D(\n",
    "        pool_size=2,\n",
    "        strides=2\n",
    "    )\n",
    ")"
   ]
  },
  {
   "cell_type": "markdown",
   "metadata": {},
   "source": [
    "### Step 3 - Flattening"
   ]
  },
  {
   "cell_type": "code",
   "execution_count": 8,
   "metadata": {},
   "outputs": [],
   "source": [
    "cnn.add(tf.keras.layers.Flatten())"
   ]
  },
  {
   "cell_type": "markdown",
   "metadata": {},
   "source": [
    "### Step 4 - Full Connection"
   ]
  },
  {
   "cell_type": "code",
   "execution_count": 9,
   "metadata": {},
   "outputs": [],
   "source": [
    "cnn.add(\n",
    "    tf.keras.layers.Dense(\n",
    "        units=128,\n",
    "        activation='relu',\n",
    "    )\n",
    ")\n"
   ]
  },
  {
   "cell_type": "markdown",
   "metadata": {},
   "source": [
    "### Step 5 - Output Layer"
   ]
  },
  {
   "cell_type": "code",
   "execution_count": 10,
   "metadata": {},
   "outputs": [],
   "source": [
    "cnn.add(\n",
    "    tf.keras.layers.Dense(\n",
    "        units=1,\n",
    "        activation='sigmoid',\n",
    "    )\n",
    ")"
   ]
  },
  {
   "cell_type": "markdown",
   "metadata": {},
   "source": [
    "## Part 3 - Training the CNN"
   ]
  },
  {
   "cell_type": "code",
   "execution_count": 11,
   "metadata": {},
   "outputs": [],
   "source": [
    "cnn.compile(optimizer='adam',loss='binary_crossentropy',metrics=['accuracy'])"
   ]
  },
  {
   "cell_type": "markdown",
   "metadata": {},
   "source": [
    "### Compiling the CNN"
   ]
  },
  {
   "cell_type": "markdown",
   "metadata": {},
   "source": [
    "### Training the CNN on the Training set and evaluating it on the Test set"
   ]
  },
  {
   "cell_type": "code",
   "execution_count": 12,
   "metadata": {},
   "outputs": [
    {
     "name": "stdout",
     "output_type": "stream",
     "text": [
      "Epoch 1/30\n",
      "47/47 [==============================] - 50s 1s/step - loss: 0.5946 - accuracy: 0.6885 - val_loss: 0.5872 - val_accuracy: 0.7205\n",
      "Epoch 2/30\n",
      "47/47 [==============================] - 13s 286ms/step - loss: 0.4951 - accuracy: 0.7618 - val_loss: 0.9625 - val_accuracy: 0.6411\n",
      "Epoch 3/30\n",
      "47/47 [==============================] - 22s 461ms/step - loss: 0.4241 - accuracy: 0.8105 - val_loss: 1.3226 - val_accuracy: 0.6584\n",
      "Epoch 4/30\n",
      "47/47 [==============================] - 20s 433ms/step - loss: 0.3899 - accuracy: 0.8205 - val_loss: 0.6656 - val_accuracy: 0.7652\n",
      "Epoch 5/30\n",
      "47/47 [==============================] - 20s 432ms/step - loss: 0.3744 - accuracy: 0.8259 - val_loss: 1.4888 - val_accuracy: 0.6731\n",
      "Epoch 6/30\n",
      "47/47 [==============================] - 22s 471ms/step - loss: 0.3458 - accuracy: 0.8399 - val_loss: 1.5063 - val_accuracy: 0.6865\n",
      "Epoch 7/30\n",
      "47/47 [==============================] - 10s 220ms/step - loss: 0.3207 - accuracy: 0.8712 - val_loss: 2.1787 - val_accuracy: 0.5984\n",
      "Epoch 8/30\n",
      "47/47 [==============================] - 9s 200ms/step - loss: 0.3328 - accuracy: 0.8626 - val_loss: 0.9392 - val_accuracy: 0.7518\n",
      "Epoch 9/30\n",
      "47/47 [==============================] - 9s 201ms/step - loss: 0.2768 - accuracy: 0.8919 - val_loss: 1.7496 - val_accuracy: 0.7005\n",
      "Epoch 10/30\n",
      "47/47 [==============================] - 9s 198ms/step - loss: 0.2754 - accuracy: 0.8853 - val_loss: 0.8559 - val_accuracy: 0.7585\n",
      "Epoch 11/30\n",
      "47/47 [==============================] - 10s 211ms/step - loss: 0.2748 - accuracy: 0.8906 - val_loss: 1.8296 - val_accuracy: 0.7045\n",
      "Epoch 12/30\n",
      "47/47 [==============================] - 9s 201ms/step - loss: 0.2174 - accuracy: 0.9073 - val_loss: 1.3020 - val_accuracy: 0.7665\n",
      "Epoch 13/30\n",
      "47/47 [==============================] - 10s 211ms/step - loss: 0.2238 - accuracy: 0.9146 - val_loss: 1.5187 - val_accuracy: 0.7505\n",
      "Epoch 14/30\n",
      "47/47 [==============================] - 10s 211ms/step - loss: 0.1967 - accuracy: 0.9253 - val_loss: 1.5691 - val_accuracy: 0.7445\n",
      "Epoch 15/30\n",
      "47/47 [==============================] - 9s 201ms/step - loss: 0.1808 - accuracy: 0.9300 - val_loss: 1.8815 - val_accuracy: 0.7312\n",
      "Epoch 16/30\n",
      "47/47 [==============================] - 10s 211ms/step - loss: 0.1707 - accuracy: 0.9360 - val_loss: 1.0937 - val_accuracy: 0.8099\n",
      "Epoch 17/30\n",
      "47/47 [==============================] - 10s 209ms/step - loss: 0.1706 - accuracy: 0.9340 - val_loss: 1.2926 - val_accuracy: 0.7792\n",
      "Epoch 18/30\n",
      "47/47 [==============================] - 10s 217ms/step - loss: 0.1327 - accuracy: 0.9460 - val_loss: 1.2306 - val_accuracy: 0.7899\n",
      "Epoch 19/30\n",
      "47/47 [==============================] - 10s 203ms/step - loss: 0.1450 - accuracy: 0.9460 - val_loss: 1.1684 - val_accuracy: 0.8079\n",
      "Epoch 20/30\n",
      "47/47 [==============================] - 10s 204ms/step - loss: 0.1335 - accuracy: 0.9466 - val_loss: 1.3790 - val_accuracy: 0.8005\n",
      "Epoch 21/30\n",
      "47/47 [==============================] - 10s 210ms/step - loss: 0.1171 - accuracy: 0.9586 - val_loss: 1.8508 - val_accuracy: 0.7685\n",
      "Epoch 22/30\n",
      "47/47 [==============================] - 10s 208ms/step - loss: 0.1108 - accuracy: 0.9600 - val_loss: 1.9965 - val_accuracy: 0.7538\n",
      "Epoch 23/30\n",
      "47/47 [==============================] - 9s 202ms/step - loss: 0.0973 - accuracy: 0.9646 - val_loss: 2.3429 - val_accuracy: 0.7292\n",
      "Epoch 24/30\n",
      "47/47 [==============================] - 9s 201ms/step - loss: 0.0872 - accuracy: 0.9680 - val_loss: 0.8076 - val_accuracy: 0.8472\n",
      "Epoch 25/30\n",
      "47/47 [==============================] - 10s 206ms/step - loss: 0.0787 - accuracy: 0.9726 - val_loss: 0.7547 - val_accuracy: 0.8672\n",
      "Epoch 26/30\n",
      "47/47 [==============================] - 10s 204ms/step - loss: 0.0668 - accuracy: 0.9807 - val_loss: 1.3217 - val_accuracy: 0.8179\n",
      "Epoch 27/30\n",
      "47/47 [==============================] - 10s 204ms/step - loss: 0.0602 - accuracy: 0.9813 - val_loss: 2.3621 - val_accuracy: 0.7485\n",
      "Epoch 28/30\n",
      "47/47 [==============================] - 10s 207ms/step - loss: 0.0673 - accuracy: 0.9780 - val_loss: 1.6532 - val_accuracy: 0.8039\n",
      "Epoch 29/30\n",
      "47/47 [==============================] - 10s 221ms/step - loss: 0.0602 - accuracy: 0.9793 - val_loss: 2.1393 - val_accuracy: 0.7472\n",
      "Epoch 30/30\n",
      "47/47 [==============================] - 10s 220ms/step - loss: 0.0627 - accuracy: 0.9793 - val_loss: 1.0291 - val_accuracy: 0.8359\n"
     ]
    },
    {
     "data": {
      "text/plain": [
       "<keras.callbacks.History at 0x21aaf57f760>"
      ]
     },
     "execution_count": 12,
     "metadata": {},
     "output_type": "execute_result"
    }
   ],
   "source": [
    "import scipy                                                                                    \n",
    "\n",
    "cnn.fit(x=training_set,validation_data=test_set,epochs=30)\n"
   ]
  },
  {
   "cell_type": "markdown",
   "metadata": {},
   "source": [
    "## Part 4 - Making a single prediction"
   ]
  },
  {
   "cell_type": "code",
   "execution_count": 15,
   "metadata": {},
   "outputs": [
    {
     "name": "stdout",
     "output_type": "stream",
     "text": [
      "<PIL.Image.Image image mode=RGB size=64x64 at 0x21AAF892890>\n",
      "1/1 [==============================] - 0s 37ms/step\n"
     ]
    }
   ],
   "source": [
    "import numpy as np\n",
    "from keras.preprocessing import image \n",
    "# test_image=tf.keras.utils.load_img(\n",
    "#     'BrainMri_dataset/no/no0.jpg',\n",
    "#     target_size=(64,64),\n",
    "# )\n",
    "\n",
    "test_image=tf.keras.utils.load_img(\n",
    "    'BrainMri_dataset/yes/y0.jpg',\n",
    "    target_size=(64,64),\n",
    ")\n",
    "test_image=tf.keras.utils.img_to_array(test_image)\n",
    "test_image=np.expand_dims(test_image,axis=0)\n",
    "result=cnn.predict(test_image)\n",
    "training_set.class_indices\n",
    "if(result[0][0]):\n",
    "    predicition='yes'\n",
    "else:\n",
    "    predicition='no'\n",
    "\n"
   ]
  },
  {
   "cell_type": "code",
   "execution_count": 14,
   "metadata": {},
   "outputs": [
    {
     "name": "stdout",
     "output_type": "stream",
     "text": [
      "yes\n"
     ]
    }
   ],
   "source": [
    "print(predicition)"
   ]
  }
 ],
 "metadata": {
  "kernelspec": {
   "display_name": "Python 3.10.7 64-bit",
   "language": "python",
   "name": "python3"
  },
  "language_info": {
   "codemirror_mode": {
    "name": "ipython",
    "version": 3
   },
   "file_extension": ".py",
   "mimetype": "text/x-python",
   "name": "python",
   "nbconvert_exporter": "python",
   "pygments_lexer": "ipython3",
   "version": "3.10.7"
  },
  "orig_nbformat": 4,
  "vscode": {
   "interpreter": {
    "hash": "a9cff5a362bc38ef45d817ae74b1af54d6a076e3d773891282bce078b815ba34"
   }
  }
 },
 "nbformat": 4,
 "nbformat_minor": 2
}
